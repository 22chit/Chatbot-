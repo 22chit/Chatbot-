{
 "cells": [
  {
   "cell_type": "code",
   "execution_count": 9,
   "id": "156943b6",
   "metadata": {},
   "outputs": [],
   "source": [
    "# HUNGER HOUSE\n",
    "doc = {'hello hi namaste good morning afternoon':'Hello welcome to HUNGER HOUSE',\n",
    "      'what are your timings time':'We are open from 10AM to 10PM',\n",
    "      'what items item do u have menu food':'We have burgers,pizzas,roll,pastas,momos and dosa',\n",
    "      'when are you closed open holiday':'We are open 24x7 except on national holidays'}\n"
   ]
  },
  {
   "cell_type": "code",
   "execution_count": 2,
   "id": "1420c429",
   "metadata": {},
   "outputs": [],
   "source": [
    "import math\n",
    "from collections import Counter\n",
    "from nltk import word_tokenize\n",
    "\n",
    "def text_vec(text):\n",
    "    word = word_tokenize(text.lower())\n",
    "    return Counter(word)"
   ]
  },
  {
   "cell_type": "code",
   "execution_count": 3,
   "id": "dfd71eb0",
   "metadata": {},
   "outputs": [],
   "source": [
    "import numpy as np\n",
    "\n",
    "def cos_sim(text1,text2):\n",
    "    vec1=text_vec(text1)\n",
    "    vec2=text_vec(text2)\n",
    "    \n",
    "    com=set(vec1.keys())& set(vec2.keys())\n",
    "    nume=sum(vec1[i]+vec2[i] for i in com)\n",
    "    \n",
    "    deno1=sum(vec1[i]**2 for i in vec1.keys())\n",
    "    deno2=sum(vec2[i]**2 for i in vec2.keys())\n",
    "    \n",
    "    deno = math.sqrt(deno1)*math.sqrt(deno2)\n",
    "    \n",
    "    cosine = nume/deno\n",
    "    return cosine"
   ]
  },
  {
   "cell_type": "code",
   "execution_count": 11,
   "id": "952d3dea",
   "metadata": {},
   "outputs": [
    {
     "name": "stdout",
     "output_type": "stream",
     "text": [
      "User: hi\n",
      "Chatbot:  Hello welcome to HUNGER HOUSE\n",
      "User: bye\n",
      "Chatbot: Bye, Have a nice day!\n"
     ]
    }
   ],
   "source": [
    "while True:\n",
    "    user = input('User: ')\n",
    "    if user.lower() not in ['bye','exit','end']:\n",
    "        \n",
    "        li=[]\n",
    "        for i in doc.keys():\n",
    "            simi = cos_sim(i,user)\n",
    "            li.append(simi)\n",
    "        ind = li.index(max(li))\n",
    "        ans = list(doc.values())\n",
    "        print('Chatbot: ',ans[ind])\n",
    "    else:\n",
    "        print('Chatbot: Bye, Have a nice day!')\n",
    "        break"
   ]
  },
  {
   "cell_type": "code",
   "execution_count": null,
   "id": "3d2aff8c",
   "metadata": {},
   "outputs": [],
   "source": []
  }
 ],
 "metadata": {
  "kernelspec": {
   "display_name": "Python 3 (ipykernel)",
   "language": "python",
   "name": "python3"
  },
  "language_info": {
   "codemirror_mode": {
    "name": "ipython",
    "version": 3
   },
   "file_extension": ".py",
   "mimetype": "text/x-python",
   "name": "python",
   "nbconvert_exporter": "python",
   "pygments_lexer": "ipython3",
   "version": "3.9.12"
  }
 },
 "nbformat": 4,
 "nbformat_minor": 5
}
